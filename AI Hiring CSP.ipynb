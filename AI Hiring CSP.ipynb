{
 "cells": [
  {
   "cell_type": "markdown",
   "id": "fd50cf8c-7d69-41be-9943-0a857d8824c6",
   "metadata": {},
   "source": [
    "## AI Hiring CSP\n",
    "\n",
    "### Introduction\n",
    "\n",
    "In this problem, we address the challenge of staffing Ciara's AI-based logistics software company efficiently while adhering to specific constraints. Ciara needs to hire a team to fulfill essential roles such as Python Programmers, AI Engineers, Web Designers, Database Administrators, and Systems Engineers. Additionally, constraints limit the total number of hires, and some individuals possess overlapping skill sets that enable them to take on multiple roles, albeit with a limit of two roles per person.\n",
    "\n",
    "**The problem is presented in two scenarios:**\n",
    "\n",
    "*Scenario 1:* Ciara knows Python and has a budget to hire only four additional employees. The roles to be filled are reduced to reflect this constraint.\n",
    "\n",
    "*Scenario 2:* Ciara partners with Juan, gaining additional funds and the ability to hire five employees. Additional roles, including an optional Security Employee, need to be considered in this scenario.\n",
    "\n",
    "To solve these scenarios, we will employ the Constraint Satisfaction Problem (CSP) framework. The framework is well-suited for problems involving decision-making under constraints. The solution will also include visualizations to communicate results to stakeholders and an interactive system for exploring alternative configurations.\n",
    "\n",
    "**Problem Setup**\n",
    "\n",
    "We will use the CSP framework with the following components:\n",
    "\n",
    "*Variables:* These represent the roles that need to be filled (“Python Programmer”, “AI Engineer”, etc.).\n",
    "\n",
    "*Domains:* Each role can be assigned to candidates based on their abilities. For instance, the role of “Python Programmer” can be assigned to candidates with Python skills.\n",
    "\n",
    "**Constraints:**\n",
    "\n",
    "A person with two or more abilities can take on a maximum of two roles.\n",
    "\n",
    "Each role must be filled according to the requirements of the respective scenario.\n",
    "\n",
    "The total number of hires must not exceed the allowed budget.\n",
    "\n",
    "**Input Data:**\n",
    "\n",
    "List of candidates with their corresponding abilities:\n",
    "\n",
    "Peter: Python, AI\n",
    "\n",
    "Juan: Web, Systems, AI\n",
    "\n",
    "Jim: AI, Database, Systems\n",
    "\n",
    "Jane: Python, Database\n",
    "\n",
    "Mary: Web, Security, Systems\n",
    "\n",
    "Bruce: Systems, Python\n",
    "\n",
    "Anita: Web, AI\n",
    "\n",
    "Maria: Multimedia, AI, Security\n",
    "\n",
    "**Role requirements for each scenario:**\n",
    "\n",
    "*Scenario 1:* 2 Python Programmers, 2 AI Engineers, 1 Web Designer, 1 Database Admin, 1 Systems Engineer\n",
    "\n",
    "*Scenario 2:* 3 Python Programmers, 3 AI Engineers, 1 Web Designer, 1 Database Admin, 1 Systems Engineer, and optionally 1 Security Employee.\n",
    "\n",
    "**Solution Approach:**\n",
    "\n",
    "Model the problem using a CSP framework.\n",
    "\n",
    "Implement the solution programmatically using Python, leveraging libraries such as python-constraint.\n",
    "\n",
    "Validate the solution by checking whether all constraints are satisfied.\n",
    "\n",
    "Extend the solution to include interactive visualizations for exploring alternative configurations.\n",
    "\n"
   ]
  },
  {
   "cell_type": "markdown",
   "id": "dad8fef4-d3bb-4a70-87c2-ebf699fd05fc",
   "metadata": {},
   "source": [
    "# Import Libraries"
   ]
  },
  {
   "cell_type": "code",
   "execution_count": 20,
   "id": "51bf1ae0-7c90-4747-ac16-cdffaf5e36ba",
   "metadata": {},
   "outputs": [],
   "source": [
    "from constraint import Problem\n",
    "from collections import Counter\n",
    "import matplotlib.pyplot as plt\n",
    "import random"
   ]
  },
  {
   "cell_type": "markdown",
   "id": "629c80f8",
   "metadata": {},
   "source": [
    "# 1.Using Constraint Satisfaction Problem framework to discover if the problems can be solved and who would be in hired in each scenario."
   ]
  },
  {
   "cell_type": "markdown",
   "id": "0b8785cc-bc14-46b7-9156-0bb140d9b717",
   "metadata": {},
   "source": [
    "### Define the Problem, Roles, and Candidates"
   ]
  },
  {
   "cell_type": "code",
   "execution_count": 2,
   "id": "27106cc6-1802-46ab-9ef2-3934eba6c00e",
   "metadata": {},
   "outputs": [],
   "source": [
    "problem = Problem()\n",
    "\n",
    "# Define roles and their requirements for Scenario 1\n",
    "roles = {\n",
    "    \"Python Programmer\": 2,\n",
    "    \"AI Engineer\": 2,\n",
    "    \"Web Designer\": 1,\n",
    "    \"Database Admin\": 1,\n",
    "    \"Systems Engineer\": 1,\n",
    "}\n",
    "\n",
    "# Define candidates and their abilities\n",
    "candidates = {\n",
    "    \"Peter\": {\"Python\", \"AI\"},\n",
    "    \"Juan\": {\"Web\", \"Systems\", \"AI\"},\n",
    "    \"Jim\": {\"AI\", \"Database\", \"Systems\"},\n",
    "    \"Jane\": {\"Python\", \"Database\"},\n",
    "    \"Mary\": {\"Web\", \"Security\", \"Systems\"},\n",
    "    \"Bruce\": {\"Systems\", \"Python\"},\n",
    "    \"Anita\": {\"Web\", \"AI\"},\n",
    "    \"Maria\": {\"Multimedia\", \"AI\", \"Security\"},\n",
    "    \"Ciara\": {\"Python\"}  \n",
    "}\n",
    "\n"
   ]
  },
  {
   "cell_type": "markdown",
   "id": "687ac95a-923d-4200-a323-eeb5c1f6e794",
   "metadata": {},
   "source": [
    "### Add variables for each role and assign candidate domains"
   ]
  },
  {
   "cell_type": "code",
   "execution_count": 3,
   "id": "0b9c4e57-a9ea-4e6d-96c8-c66849d8cffa",
   "metadata": {},
   "outputs": [],
   "source": [
    "for role in roles:\n",
    "    eligible_candidates = [candidate for candidate, skills in candidates.items() if role.split()[0] in skills]\n",
    "    problem.addVariable(role, eligible_candidates)"
   ]
  },
  {
   "cell_type": "markdown",
   "id": "ac67a601-4279-4297-970b-59ac746b6010",
   "metadata": {},
   "source": [
    "### Constraints"
   ]
  },
  {
   "cell_type": "code",
   "execution_count": 4,
   "id": "755c6b26-204d-4bc0-92a6-bb518426945e",
   "metadata": {},
   "outputs": [],
   "source": [
    "# A candidate can fulfill a maximum of two roles\n",
    "def max_two_roles(*assignments):\n",
    "    assignment_count = {candidate: assignments.count(candidate) for candidate in set(assignments)}\n",
    "    return all(count <= 2 for count in assignment_count.values())\n",
    "\n",
    "problem.addConstraint(max_two_roles, list(roles.keys()))\n",
    "\n",
    "# Constraint: Ensure no role is unassigned\n",
    "for role in roles:\n",
    "    problem.addConstraint(lambda candidate: candidate is not None, [role])"
   ]
  },
  {
   "cell_type": "markdown",
   "id": "b6fcfa95-e2a9-4d14-b243-e2df9be19c55",
   "metadata": {},
   "source": [
    "### Solve the problem"
   ]
  },
  {
   "cell_type": "code",
   "execution_count": 5,
   "id": "5b3c962a-2e76-4f3a-bba5-c4acca38700e",
   "metadata": {},
   "outputs": [
    {
     "name": "stdout",
     "output_type": "stream",
     "text": [
      "Selected Solution: {'Database Admin': 'Jane', 'Web Designer': 'Anita', 'Python Programmer': 'Ciara', 'Systems Engineer': 'Bruce', 'AI Engineer': 'Maria'}\n"
     ]
    }
   ],
   "source": [
    "solutions = problem.getSolutions()\n",
    "if not solutions:\n",
    "    print(\"No solutions found. Check the constraints or input data.\")\n",
    "else:\n",
    "    # Filter solutions to ensure Ciara is included as a Python Programmer\n",
    "    ciara_solutions = [\n",
    "        sol for sol in solutions \n",
    "        if 'Python Programmer' in sol and (\n",
    "            sol['Python Programmer'] == 'Ciara' or\n",
    "            (isinstance(sol['Python Programmer'], list) and 'Ciara' in sol['Python Programmer'])\n",
    "        )\n",
    "    ]\n",
    "    \n",
    "    if not ciara_solutions:\n",
    "        print(\"No solutions found with Ciara as a Python Programmer.\")\n",
    "    else:\n",
    "        # Select the first solution with Ciara included\n",
    "        solution = ciara_solutions[0]\n",
    "        print(\"Selected Solution:\", solution)\n"
   ]
  },
  {
   "cell_type": "code",
   "execution_count": 6,
   "id": "bf25c63d",
   "metadata": {},
   "outputs": [
    {
     "data": {
      "image/png": "[encoded data removed]",
      "text/plain": [
       "<Figure size 800x600 with 1 Axes>"
      ]
     },
     "metadata": {},
     "output_type": "display_data"
    }
   ],
   "source": [
    "import matplotlib.pyplot as plt\n",
    "# Prepare data for the horizontal bar chart\n",
    "role_counts = Counter(candidate for role, candidates in solution.items() for candidate in ([candidates] if isinstance(candidates, str) else candidates))\n",
    "\n",
    "plt.figure(figsize=(8, 6))\n",
    "plt.barh(list(role_counts.keys()), list(role_counts.values()), color='skyblue')\n",
    "plt.xlabel('Number of Roles Assigned')\n",
    "plt.ylabel('Candidates')\n",
    "plt.title('Scenario 1: Candidate Workload Distribution')\n",
    "plt.grid(axis='x', linestyle='--', alpha=0.7)\n",
    "\n",
    "\n",
    "plt.show()\n"
   ]
  },
  {
   "cell_type": "markdown",
   "id": "1d432e94",
   "metadata": {},
   "source": [
    "The solution indicates that Jane is the Database Admin, Anita is the Web Designer, Ciara is the Python Programmer, Bruce takes on the role of Systems Engineer, and Maria is the AI Engineer. This solution effectively satisfies all constraints, including the requirement to prioritize Ciara as part of the team. Each candidate is chosen based on their abilities, ensuring that the skills required for each role are fully covered. For instance, Jane’s expertise in databases makes her a natural fit for Database Admin, while Anita’s experience in web development suits the Web Designer role. Similarly, Bruce’s dual expertise in Python and systems ensures his suitability as Systems Engineer, and Maria’s strong AI background makes her ideal as an AI Engineer. This configuration demonstrates the effectiveness of the CSP framework in resolving constraints while balancing team requirements."
   ]
  },
  {
   "cell_type": "markdown",
   "id": "455ef638-c68c-429d-929a-a156bceafc13",
   "metadata": {},
   "source": [
    "# Scenario 2"
   ]
  },
  {
   "cell_type": "markdown",
   "id": "f1e533b0",
   "metadata": {},
   "source": [
    "#### Initialize the problem and define the roles and their abilities"
   ]
  },
  {
   "cell_type": "code",
   "execution_count": 14,
   "id": "f2244f86-d22f-419a-9191-41c413251383",
   "metadata": {},
   "outputs": [],
   "source": [
    "# Initialize the problem\n",
    "problem = Problem()\n",
    "\n",
    "# Define the roles and their abilities\n",
    "roles = {\n",
    "    \"Python Programmer\": [\"Peter\", \"Bruce\", \"Juan\"],\n",
    "    \"AI Engineer\": [\"Peter\", \"Juan\", \"Jim\", \"Anita\", \"Maria\"],\n",
    "    \"Web Designer\": [\"Juan\", \"Anita\", \"Mary\"],\n",
    "    \"Database Admin\": [\"Jim\", \"Jane\"],\n",
    "    \"Systems Engineer\": [\"Juan\", \"Jim\", \"Mary\", \"Bruce\"],\n",
    "    \"Security Employee\": [\"Mary\", \"Maria\"],\n",
    "}\n"
   ]
  },
  {
   "cell_type": "markdown",
   "id": "83d36b6b",
   "metadata": {},
   "source": [
    "#### Define the variables (roles) and their domains (eligible candidates)"
   ]
  },
  {
   "cell_type": "code",
   "execution_count": 15,
   "id": "3bd2d8c5",
   "metadata": {},
   "outputs": [],
   "source": [
    "for role, candidates in roles.items():\n",
    "    problem.addVariable(role, candidates)\n"
   ]
  },
  {
   "cell_type": "markdown",
   "id": "ae8482e5",
   "metadata": {},
   "source": [
    "#### Define the constraints"
   ]
  },
  {
   "cell_type": "code",
   "execution_count": 16,
   "id": "ab4ab4ff",
   "metadata": {},
   "outputs": [],
   "source": [
    "\n",
    "# 1. No candidate can take more than 2 roles\n",
    "def role_limit(*args):\n",
    "    candidates = [candidate for candidate in args if candidate is not None]\n",
    "    return all(candidates.count(candidate) <= 2 for candidate in set(candidates))\n",
    "\n",
    "problem.addConstraint(role_limit, roles.keys())\n",
    "\n",
    "# 2. Limit hires to Juan + 5 additional people\n",
    "def hire_limit(*args):\n",
    "    candidates = [candidate for candidate in args if candidate is not None]\n",
    "    # Count unique candidates (include Juan)\n",
    "    unique_hires = set(candidates + [\"Juan\"])\n",
    "    return len(unique_hires) <= 6\n",
    "\n",
    "problem.addConstraint(hire_limit, roles.keys())\n",
    "\n",
    "# 3. Juan is automatically included and must fulfill one or more roles\n",
    "def must_include_juan(*args):\n",
    "    return \"Juan\" in args\n",
    "\n",
    "problem.addConstraint(must_include_juan, roles.keys())\n"
   ]
  },
  {
   "cell_type": "markdown",
   "id": "985400b7",
   "metadata": {},
   "source": [
    "\n",
    "#### Solve the problem and Output the solutions"
   ]
  },
  {
   "cell_type": "code",
   "execution_count": 17,
   "id": "8c938295",
   "metadata": {},
   "outputs": [
    {
     "name": "stdout",
     "output_type": "stream",
     "text": [
      "Found 456 solutions.\n",
      "Solution 1: {'Scenario 2 - Database Admin': 'Jane', 'Scenario 2 - Security Employee': 'Maria', 'Scenario 2 - Python Programmer': 'Juan', 'Scenario 2 - Web Designer': 'Mary', 'Scenario 2 - Systems Engineer': 'Bruce', 'Scenario 2 - AI Engineer': 'Maria'}\n",
      "Solution 2: {'Scenario 2 - Database Admin': 'Jane', 'Scenario 2 - Security Employee': 'Maria', 'Scenario 2 - Python Programmer': 'Juan', 'Scenario 2 - Web Designer': 'Mary', 'Scenario 2 - Systems Engineer': 'Bruce', 'Scenario 2 - AI Engineer': 'Anita'}\n",
      "Solution 3: {'Scenario 2 - Database Admin': 'Jane', 'Scenario 2 - Security Employee': 'Maria', 'Scenario 2 - Python Programmer': 'Juan', 'Scenario 2 - Web Designer': 'Mary', 'Scenario 2 - Systems Engineer': 'Bruce', 'Scenario 2 - AI Engineer': 'Jim'}\n"
     ]
    }
   ],
   "source": [
    "if not solutions:\n",
    "    print(\"No solutions found. Check the constraints or input data.\")\n",
    "else:\n",
    "    print(f\"Found {len(solutions)} solutions.\")\n",
    "    # Rename roles to include \"Scenario 2 - \" prefix for distinction\n",
    "    scenario_2_solutions = [\n",
    "        {f\"Scenario 2 - {role}\": candidate for role, candidate in solution.items()}\n",
    "        for solution in solutions\n",
    "    ]\n",
    "    for i, solution in enumerate(scenario_2_solutions[:3], 1):  \n",
    "        print(f\"Solution {i}: {solution}\")\n"
   ]
  },
  {
   "cell_type": "markdown",
   "id": "b0ccd375",
   "metadata": {},
   "source": [
    "#### Visualize the solution"
   ]
  },
  {
   "cell_type": "code",
   "execution_count": 19,
   "id": "a2634c78",
   "metadata": {},
   "outputs": [
    {
     "data": {
      "image/png": "[encoded data removed]",
      "text/plain": [
       "<Figure size 800x600 with 1 Axes>"
      ]
     },
     "metadata": {},
     "output_type": "display_data"
    }
   ],
   "source": [
    "scenario_2_solution = {f\"Scenario 2 - {role}\": candidate for role, candidate in solution.items()}\n",
    "\n",
    "# Count roles assigned to each candidate\n",
    "role_counts = Counter(\n",
    "    candidate\n",
    "    for role, candidates in scenario_2_solution.items()\n",
    "    for candidate in ([candidates] if isinstance(candidates, str) else candidates)\n",
    ")\n",
    "\n",
    "# Plot horizontal bar chart\n",
    "plt.figure(figsize=(8, 6))\n",
    "plt.barh(list(role_counts.keys()), list(role_counts.values()), color='skyblue')\n",
    "plt.xlabel('Number of Roles Assigned')\n",
    "plt.ylabel('Candidates')\n",
    "plt.title('Workload Distribution Across Candidates (Scenario 2)')\n",
    "plt.grid(axis='x', linestyle='--', alpha=0.7)\n",
    "plt.show()\n"
   ]
  },
  {
   "cell_type": "markdown",
   "id": "3788777b",
   "metadata": {},
   "source": [
    "In Scenario 2, the CSP framework identified 456 possible solutions that satisfy the expanded constraints, including the addition of another AI Engineer and the optional inclusion of a Security Employee. The first three solutions provide examples of this flexibility. For instance, in one solution, Jane consistently takes the Database Admin role, Maria fulfills both AI Engineer and Security Employee roles, Juan serves as the Python Programmer, Mary is assigned as Web Designer, and Bruce continues as Systems Engineer. Variations arise in the allocation of the AI Engineer role, with different candidates, such as Anita and Jim, also filling this position in alternative solutions. This flexibility showcases the CSP framework’s ability to accommodate diverse configurations while respecting all constraints"
   ]
  },
  {
   "cell_type": "markdown",
   "id": "7af279ae",
   "metadata": {},
   "source": [
    "# 2. How Constraint Satisfaction Finds an Answer\n",
    "\n",
    "Constraint Satisfaction Problems (CSP) rely on a systematic exploration of variables, domains, and constraints to determine feasible solutions. The process begins by defining variables (e.g., roles such as Python Programmer, Web Designer), their possible values (e.g., candidates capable of performing those roles), and the constraints that restrict the assignment of values (e.g., candidates with overlapping skills taking on a maximum of two roles).\n",
    "\n",
    "Using backtracking as a fundamental algorithm, CSP iteratively assigns values to variables. If any assignment violates a constraint, the algorithm backtracks and explores alternative assignments (Bodirsky, 2021). This ensures the solution space is traversed exhaustively but efficiently. Techniques such as forward checking and arc consistency can further optimize the process by pruning invalid options early.\n",
    "\n",
    "For instance, in Scenario 1, CSP ensures Ciara is assigned as a Python Programmer while respecting constraints such as no candidate taking more than two roles. If no valid assignment exists for a variable without breaking constraints, CSP concludes that no solution is possible. This declarative approach allows complex problems to be encoded succinctly compared to imperative, step-by-step algorithms.\n",
    "\n",
    "In contrast to standard algorithmic approaches that may involve heuristic searches or exhaustive nested loops, CSP separates problem modeling from the solving process. This allows for reusability, adaptability, and clarity, especially in constraint-heavy applications (Bodirsky, 2021)."
   ]
  },
  {
   "cell_type": "markdown",
   "id": "0ce7aed4",
   "metadata": {},
   "source": [
    "# 3. Solving with Alternative Algorithms\n",
    "\n",
    "CSP is one of many approaches to tackling the problem. Another algorithm that could solve these role-assignment tasks is the Genetic Algorithm (GA), an optimization technique inspired by natural selection. GA represents potential solutions as chromosomes and iteratively improves them using crossover and mutation (). Here we provide an implementation for Scenario 1 using GA:"
   ]
  },
  {
   "cell_type": "markdown",
   "id": "5af94ea0",
   "metadata": {},
   "source": [
    "### Define variables and candidates"
   ]
  },
  {
   "cell_type": "code",
   "execution_count": 24,
   "id": "1c220f57",
   "metadata": {},
   "outputs": [],
   "source": [
    "# Define roles, candidates, and their abilities\n",
    "roles = [\"Python Programmer\", \"AI Engineer\", \"Web Designer\", \"Database Admin\", \"Systems Engineer\"]\n",
    "candidates = {\n",
    "    \"Ciara\": [\"Python\"],\n",
    "    \"Peter\": [\"Python\", \"AI\"],\n",
    "    \"Juan\": [\"Web\", \"Systems\", \"AI\"],\n",
    "    \"Jane\": [\"Python\", \"Database\"],\n",
    "    \"Bruce\": [\"Systems\", \"Python\"],\n",
    "    \"Maria\": [\"AI\", \"Security\"],\n",
    "}\n"
   ]
  },
  {
   "cell_type": "markdown",
   "id": "58c023ce",
   "metadata": {},
   "source": [
    "\n",
    "### Fitness function to evaluate a solution"
   ]
  },
  {
   "cell_type": "code",
   "execution_count": 25,
   "id": "633074a5",
   "metadata": {},
   "outputs": [],
   "source": [
    "# Fitness function\n",
    "def fitness(solution):\n",
    "    score = 0\n",
    "    assigned_roles = set(solution.values())\n",
    "    for role, candidate in solution.items():\n",
    "        if role in roles and candidate in candidates:\n",
    "            if role in candidates[candidate]:\n",
    "                score += 1  # Satisfies skill requirement\n",
    "    score -= len(solution) - len(assigned_roles)  # Penalize conflicts\n",
    "    return score"
   ]
  },
  {
   "cell_type": "markdown",
   "id": "cdbb8831",
   "metadata": {},
   "source": [
    "\n",
    "### Genetic Algorithm implementation"
   ]
  },
  {
   "cell_type": "code",
   "execution_count": 26,
   "id": "7a1d8980",
   "metadata": {},
   "outputs": [],
   "source": [
    "\n",
    "# Initialize population\n",
    "def initialize_population(size):\n",
    "    population = []\n",
    "    for _ in range(size):\n",
    "        individual = {role: random.choice(list(candidates.keys())) for role in roles}\n",
    "        population.append(individual)\n",
    "    return population\n",
    "\n",
    "# Evolve population\n",
    "def evolve(population):\n",
    "    new_population = []\n",
    "    for _ in range(len(population)):\n",
    "        # Select parents\n",
    "        parent1, parent2 = random.sample(population, 2)\n",
    "        # Crossover\n",
    "        child = {role: parent1[role] if random.random() > 0.5 else parent2[role] for role in roles}\n",
    "        # Mutation\n",
    "        if random.random() < 0.1:\n",
    "            random_role = random.choice(roles)\n",
    "            child[random_role] = random.choice(list(candidates.keys()))\n",
    "        new_population.append(child)\n",
    "    return sorted(new_population, key=fitness, reverse=True)\n",
    "\n",
    "\n",
    "# Run GA\n",
    "population = initialize_population(100)\n",
    "for generation in range(50):  # Run for 50 generations\n",
    "    population = evolve(population)\n"
   ]
  },
  {
   "cell_type": "markdown",
   "id": "d3a6b328",
   "metadata": {},
   "source": [
    "### Best solution"
   ]
  },
  {
   "cell_type": "code",
   "execution_count": 27,
   "id": "929c2faf",
   "metadata": {},
   "outputs": [
    {
     "name": "stdout",
     "output_type": "stream",
     "text": [
      "Best Solution: {'Python Programmer': 'Juan', 'AI Engineer': 'Peter', 'Web Designer': 'Ciara', 'Database Admin': 'Maria', 'Systems Engineer': 'Bruce'}\n",
      "Fitness Score: 0\n"
     ]
    }
   ],
   "source": [
    "# Best solution\n",
    "best_solution = population[0]\n",
    "print(\"Best Solution:\", best_solution)\n",
    "print(\"Fitness Score:\", fitness(best_solution))\n"
   ]
  },
  {
   "cell_type": "markdown",
   "id": "afa4e69f",
   "metadata": {},
   "source": [
    "The Genetic Algorithm (GA) identified the following optimal team configuration for the given constraints and roles:\n",
    "\n",
    "Python Programmer: Juan\n",
    "AI Engineer: Peter\n",
    "Web Designer: Ciara\n",
    "Database Admin: Maria\n",
    "Systems Engineer: Bruce\n",
    "\n",
    "Despite achieving a feasible assignment of candidates to roles, the fitness score of 0 suggests that some constraints were either partially satisfied or violated. This indicates that while a solution was found, it is suboptimal compared to the solutions identified using Constraint Satisfaction Problems (CSP).\n",
    "\n",
    "The GA's iterative and probabilistic nature enables exploration across a broad solution space but may not always satisfy all constraints fully. In this case, the GA generated a solution where:\n",
    "\n",
    "- Candidates were assigned roles based on their abilities and availability.\n",
    "- Fitness penalized conflicts, such as candidates taking roles outside their expertise.\n",
    "\n",
    "While the GA approach provides flexibility and scalability for large, complex problems, its heuristic nature contrasts with CSP's deterministic guarantees (Gen and Lin, 2023). The CSP framework systematically enforces all constraints, ensuring optimal solutions when they exist, whereas GA accepts trade-offs, making it suitable for problems where some constraints are negotiable."
   ]
  },
  {
   "cell_type": "markdown",
   "id": "c3965f68",
   "metadata": {},
   "source": [
    "# Data Visualization"
   ]
  },
  {
   "cell_type": "code",
   "execution_count": null,
   "id": "82be583f",
   "metadata": {},
   "outputs": [
    {
     "data": {
      "image/png": "[encoded data removed]",
      "text/plain": [
       "<Figure size 800x600 with 1 Axes>"
      ]
     },
     "metadata": {},
     "output_type": "display_data"
    }
   ],
   "source": [
    "import tkinter as tk\n",
    "from tkinter import ttk\n",
    "import matplotlib.pyplot as plt\n",
    "from collections import Counter\n",
    "from ortools.sat.python import cp_model\n",
    "\n",
    "# Interactive visualization function\n",
    "def plot_solution(solution):\n",
    "    \"\"\"Plot a bar chart for a selected solution.\"\"\"\n",
    "    role_counts = Counter(candidate for role, candidate in solution.items())\n",
    "    \n",
    "    # Create bar chart\n",
    "    plt.figure(figsize=(8, 6))\n",
    "    plt.barh(list(role_counts.keys()), list(role_counts.values()), color='skyblue')\n",
    "    plt.xlabel('Number of Roles Assigned')\n",
    "    plt.ylabel('Candidates')\n",
    "    plt.title('Workload Distribution Across Candidates')\n",
    "    plt.grid(axis='x', linestyle='--', alpha=0.7)\n",
    "    plt.show()\n",
    "\n",
    "# GUI for exploring alternate scenarios\n",
    "def create_gui():\n",
    "    \"\"\"Create a GUI for scenario exploration.\"\"\"\n",
    "    def display_solution(selected_solution_index):\n",
    "        \"\"\"Display and plot the selected solution.\"\"\"\n",
    "        selected_solution = solutions[selected_solution_index]\n",
    "        solution_display.delete(1.0, tk.END)\n",
    "        solution_display.insert(tk.END, f\"Solution {selected_solution_index + 1}:\\n\")\n",
    "        for role, candidate in selected_solution.items():\n",
    "            solution_display.insert(tk.END, f\"{role}: {candidate}\\n\")\n",
    "        plot_solution(selected_solution)\n",
    "\n",
    "    # Initialize GUI window\n",
    "    root = tk.Tk()\n",
    "    root.title(\"CSP Scenario Explorer\")\n",
    "\n",
    "    # Dropdown to select solutions\n",
    "    ttk.Label(root, text=\"Select a Solution:\").grid(row=0, column=0, padx=10, pady=10)\n",
    "    solution_var = tk.IntVar(value=0)\n",
    "    solution_dropdown = ttk.Combobox(\n",
    "        root, \n",
    "        textvariable=solution_var,\n",
    "        values=list(range(1, len(solutions) + 1))\n",
    "    )\n",
    "    solution_dropdown.grid(row=0, column=1, padx=10, pady=10)\n",
    "    solution_dropdown.current(0)\n",
    "\n",
    "    # Button to display selected solution\n",
    "    display_button = ttk.Button(\n",
    "        root,\n",
    "        text=\"Show Solution\",\n",
    "        command=lambda: display_solution(solution_var.get() - 1)\n",
    "    )\n",
    "    display_button.grid(row=0, column=2, padx=10, pady=10)\n",
    "\n",
    "    # Text widget to display solution details\n",
    "    solution_display = tk.Text(root, height=10, width=50)\n",
    "    solution_display.grid(row=1, column=0, columnspan=3, padx=10, pady=10)\n",
    "\n",
    "    # Default display of the first solution\n",
    "    display_solution(0)\n",
    "\n",
    "    # Run GUI\n",
    "    root.mainloop()\n",
    "\n",
    "# Rationalizing Visualization Design\n",
    "def visualization_rationale():\n",
    "    rationale = \"\"\"\n",
    "    The visualization and GUI were designed to enhance user interaction and understanding:\n",
    "    - Bar charts were chosen for workload distribution as they provide an intuitive comparison across candidates.\n",
    "    - Interactive dropdowns allow users to explore different scenarios, enabling decision-makers to evaluate options dynamically.\n",
    "    - GUI layout prioritizes simplicity, using clear text displays and straightforward solution navigation.\n",
    "    - Theoretical AI Team Role: Our AI team collaborated on this visualization strategy, leveraging expertise in user experience, human-centered design, and data analysis to create tools that align with stakeholder needs.\n",
    "    \"\"\"\n",
    "    print(rationale)\n",
    "\n",
    "# Run the GUI and rationale explanation\n",
    "if __name__ == \"__main__\":\n",
    "    create_gui()\n",
    "    visualization_rationale()\n"
   ]
  },
  {
   "cell_type": "code",
   "execution_count": null,
   "id": "62974c69",
   "metadata": {},
   "outputs": [],
   "source": []
  },
  {
   "cell_type": "markdown",
   "id": "4c470303",
   "metadata": {},
   "source": [
    "# References \n",
    "\n",
    "Bodirsky, M., 2021. Complexity of infinite-domain constraint satisfaction (Vol. 52). Cambridge University Press.\n",
    "\n",
    "Gen, M. and Lin, L., 2023. Genetic algorithms and their applications. In Springer handbook of engineering statistics (pp. 635-674). London: Springer London."
   ]
  },
  {
   "cell_type": "markdown",
   "id": "8f413d62",
   "metadata": {},
   "source": []
  }
 ],
 "metadata": {
  "kernelspec": {
   "display_name": "Python 3 (ipykernel)",
   "language": "python",
   "name": "python3"
  },
  "language_info": {
   "codemirror_mode": {
    "name": "ipython",
    "version": 3
   },
   "file_extension": ".py",
   "mimetype": "text/x-python",
   "name": "python",
   "nbconvert_exporter": "python",
   "pygments_lexer": "ipython3",
   "version": "3.11.7"
  }
 },
 "nbformat": 4,
 "nbformat_minor": 5
}
