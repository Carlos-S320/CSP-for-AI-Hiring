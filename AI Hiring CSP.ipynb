{
 "cells": [
  {
   "cell_type": "markdown",
   "id": "fd50cf8c-7d69-41be-9943-0a857d8824c6",
   "metadata": {},
   "source": [
    "## AI Hiring CSP\n",
    "\n",
    "### Introduction\n",
    "\n",
    "In this problem, we address the challenge of staffing Ciara's AI-based logistics software company efficiently while adhering to specific constraints. Ciara needs to hire a team to fulfill essential roles such as Python Programmers, AI Engineers, Web Designers, Database Administrators, and Systems Engineers. Additionally, constraints limit the total number of hires, and some individuals possess overlapping skill sets that enable them to take on multiple roles, albeit with a limit of two roles per person.\n",
    "\n",
    "**The problem is presented in two scenarios:**\n",
    "\n",
    "*Scenario 1:* Ciara knows Python and has a budget to hire only four additional employees. The roles to be filled are reduced to reflect this constraint.\n",
    "\n",
    "*Scenario 2:* Ciara partners with Juan, gaining additional funds and the ability to hire five employees. Additional roles, including an optional Security Employee, need to be considered in this scenario.\n",
    "\n",
    "To solve these scenarios, we will employ the Constraint Satisfaction Problem (CSP) framework. The framework is well-suited for problems involving decision-making under constraints. The solution will also include visualizations to communicate results to stakeholders and an interactive system for exploring alternative configurations.\n",
    "\n",
    "**Problem Setup**\n",
    "\n",
    "We will use the CSP framework with the following components:\n",
    "\n",
    "*Variables:* These represent the roles that need to be filled (“Python Programmer”, “AI Engineer”, etc.).\n",
    "\n",
    "*Domains:* Each role can be assigned to candidates based on their abilities. For instance, the role of “Python Programmer” can be assigned to candidates with Python skills.\n",
    "\n",
    "**Constraints:**\n",
    "\n",
    "A person with two or more abilities can take on a maximum of two roles.\n",
    "\n",
    "Each role must be filled according to the requirements of the respective scenario.\n",
    "\n",
    "The total number of hires must not exceed the allowed budget.\n",
    "\n",
    "**Input Data:**\n",
    "\n",
    "List of candidates with their corresponding abilities:\n",
    "\n",
    "Peter: Python, AI\n",
    "\n",
    "Juan: Web, Systems, AI\n",
    "\n",
    "Jim: AI, Database, Systems\n",
    "\n",
    "Jane: Python, Database\n",
    "\n",
    "Mary: Web, Security, Systems\n",
    "\n",
    "Bruce: Systems, Python\n",
    "\n",
    "Anita: Web, AI\n",
    "\n",
    "Maria: Multimedia, AI, Security\n",
    "\n",
    "**Role requirements for each scenario:**\n",
    "\n",
    "*Scenario 1:* 2 Python Programmers, 2 AI Engineers, 1 Web Designer, 1 Database Admin, 1 Systems Engineer\n",
    "\n",
    "*Scenario 2:* 3 Python Programmers, 3 AI Engineers, 1 Web Designer, 1 Database Admin, 1 Systems Engineer, and optionally 1 Security Employee.\n",
    "\n",
    "**Solution Approach:**\n",
    "\n",
    "Model the problem using a CSP framework.\n",
    "\n",
    "Implement the solution programmatically using Python, leveraging libraries such as python-constraint.\n",
    "\n",
    "Validate the solution by checking whether all constraints are satisfied.\n",
    "\n",
    "Extend the solution to include interactive visualizations for exploring alternative configurations.\n",
    "\n"
   ]
  },
  {
   "cell_type": "markdown",
   "id": "dad8fef4-d3bb-4a70-87c2-ebf699fd05fc",
   "metadata": {},
   "source": [
    "# Import Libraries"
   ]
  },
  {
   "cell_type": "code",
   "execution_count": 3,
   "id": "51bf1ae0-7c90-4747-ac16-cdffaf5e36ba",
   "metadata": {},
   "outputs": [],
   "source": [
    "from constraint import Problem"
   ]
  },
  {
   "cell_type": "markdown",
   "id": "0b8785cc-bc14-46b7-9156-0bb140d9b717",
   "metadata": {},
   "source": [
    "# Define the Problem, Roles, and Candidates"
   ]
  },
  {
   "cell_type": "code",
   "execution_count": 5,
   "id": "27106cc6-1802-46ab-9ef2-3934eba6c00e",
   "metadata": {},
   "outputs": [],
   "source": [
    "problem = Problem()\n",
    "\n",
    "# Define roles and their requirements for Scenario 1\n",
    "roles = {\n",
    "    \"Python Programmer\": 2,\n",
    "    \"AI Engineer\": 2,\n",
    "    \"Web Designer\": 1,\n",
    "    \"Database Admin\": 1,\n",
    "    \"Systems Engineer\": 1,\n",
    "}\n",
    "\n",
    "# Define candidates and their abilities\n",
    "candidates = {\n",
    "    \"Peter\": {\"Python\", \"AI\"},\n",
    "    \"Juan\": {\"Web\", \"Systems\", \"AI\"},\n",
    "    \"Jim\": {\"AI\", \"Database\", \"Systems\"},\n",
    "    \"Jane\": {\"Python\", \"Database\"},\n",
    "    \"Mary\": {\"Web\", \"Security\", \"Systems\"},\n",
    "    \"Bruce\": {\"Systems\", \"Python\"},\n",
    "    \"Anita\": {\"Web\", \"AI\"},\n",
    "    \"Maria\": {\"Multimedia\", \"AI\", \"Security\"},\n",
    "}"
   ]
  },
  {
   "cell_type": "markdown",
   "id": "687ac95a-923d-4200-a323-eeb5c1f6e794",
   "metadata": {},
   "source": [
    "# Add variables for each role and assign candidate domains"
   ]
  },
  {
   "cell_type": "code",
   "execution_count": 7,
   "id": "0b9c4e57-a9ea-4e6d-96c8-c66849d8cffa",
   "metadata": {},
   "outputs": [],
   "source": [
    "for role in roles:\n",
    "    eligible_candidates = [candidate for candidate, skills in candidates.items() if role.split()[0] in skills]\n",
    "    problem.addVariable(role, eligible_candidates)"
   ]
  },
  {
   "cell_type": "markdown",
   "id": "ac67a601-4279-4297-970b-59ac746b6010",
   "metadata": {},
   "source": [
    "# Constraints"
   ]
  },
  {
   "cell_type": "code",
   "execution_count": 9,
   "id": "755c6b26-204d-4bc0-92a6-bb518426945e",
   "metadata": {},
   "outputs": [],
   "source": [
    "# A candidate can fulfill a maximum of two roles\n",
    "def max_two_roles(*assignments):\n",
    "    assignment_count = {candidate: assignments.count(candidate) for candidate in set(assignments)}\n",
    "    return all(count <= 2 for count in assignment_count.values())\n",
    "\n",
    "problem.addConstraint(max_two_roles, list(roles.keys()))\n",
    "\n",
    "# Constraint: Ensure no role is unassigned\n",
    "for role in roles:\n",
    "    problem.addConstraint(lambda candidate: candidate is not None, [role])"
   ]
  },
  {
   "cell_type": "markdown",
   "id": "b6fcfa95-e2a9-4d14-b243-e2df9be19c55",
   "metadata": {},
   "source": [
    "# Solve the problem"
   ]
  },
  {
   "cell_type": "code",
   "execution_count": 17,
   "id": "cd0f6e2f-9dc2-4e43-8e21-779e53d0b87a",
   "metadata": {},
   "outputs": [],
   "source": [
    "from collections import Counter"
   ]
  },
  {
   "cell_type": "code",
   "execution_count": 26,
   "id": "5b3c962a-2e76-4f3a-bba5-c4acca38700e",
   "metadata": {},
   "outputs": [
    {
     "name": "stdout",
     "output_type": "stream",
     "text": [
      "Selected Solution: {'Database Admin': 'Jane', 'Python Programmer': 'Bruce', 'Web Designer': 'Anita', 'Systems Engineer': 'Bruce', 'AI Engineer': 'Juan'}\n"
     ]
    }
   ],
   "source": [
    "solutions = problem.getSolutions()\n",
    "if not solutions:\n",
    "    print(\"No solutions found. Check the constraints or input data.\")\n",
    "else:\n",
    "    # Choose the first solution\n",
    "    solution = solutions[0]\n",
    "    print(\"Selected Solution:\", solution)"
   ]
  },
  {
   "cell_type": "markdown",
   "id": "455ef638-c68c-429d-929a-a156bceafc13",
   "metadata": {},
   "source": [
    "# Scenario 2"
   ]
  },
  {
   "cell_type": "code",
   "execution_count": 31,
   "id": "f2244f86-d22f-419a-9191-41c413251383",
   "metadata": {},
   "outputs": [
    {
     "name": "stdout",
     "output_type": "stream",
     "text": [
      "Found 456 solutions.\n",
      "Solution 1: {'Database Admin': 'Jane', 'Security Employee (Optional)': 'Maria', 'Python Programmer': 'Juan', 'Web Designer': 'Mary', 'Systems Engineer': 'Bruce', 'AI Engineer': 'Maria'}\n",
      "Solution 2: {'Database Admin': 'Jane', 'Security Employee (Optional)': 'Maria', 'Python Programmer': 'Juan', 'Web Designer': 'Mary', 'Systems Engineer': 'Bruce', 'AI Engineer': 'Anita'}\n",
      "Solution 3: {'Database Admin': 'Jane', 'Security Employee (Optional)': 'Maria', 'Python Programmer': 'Juan', 'Web Designer': 'Mary', 'Systems Engineer': 'Bruce', 'AI Engineer': 'Jim'}\n"
     ]
    }
   ],
   "source": [
    "# Initialize the problem\n",
    "problem = Problem()\n",
    "\n",
    "# Define the roles and their abilities\n",
    "roles = {\n",
    "    \"Python Programmer\": [\"Peter\", \"Bruce\", \"Juan\"],\n",
    "    \"AI Engineer\": [\"Peter\", \"Juan\", \"Jim\", \"Anita\", \"Maria\"],\n",
    "    \"Web Designer\": [\"Juan\", \"Anita\", \"Mary\"],\n",
    "    \"Database Admin\": [\"Jim\", \"Jane\"],\n",
    "    \"Systems Engineer\": [\"Juan\", \"Jim\", \"Mary\", \"Bruce\"],\n",
    "    \"Security Employee (Optional)\": [\"Mary\", \"Maria\"],\n",
    "}\n",
    "\n",
    "# Define the variables (roles) and their domains (eligible candidates)\n",
    "for role, candidates in roles.items():\n",
    "    problem.addVariable(role, candidates)\n",
    "\n",
    "# Define the constraints\n",
    "# 1. No candidate can take more than 2 roles\n",
    "def role_limit(*args):\n",
    "    candidates = [candidate for candidate in args if candidate is not None]\n",
    "    return all(candidates.count(candidate) <= 2 for candidate in set(candidates))\n",
    "\n",
    "problem.addConstraint(role_limit, roles.keys())\n",
    "\n",
    "# 2. Limit hires to Juan + 5 additional people\n",
    "def hire_limit(*args):\n",
    "    candidates = [candidate for candidate in args if candidate is not None]\n",
    "    # Count unique candidates (include Juan)\n",
    "    unique_hires = set(candidates + [\"Juan\"])\n",
    "    return len(unique_hires) <= 6\n",
    "\n",
    "problem.addConstraint(hire_limit, roles.keys())\n",
    "\n",
    "# 3. Juan is automatically included and must fulfill one or more roles\n",
    "def must_include_juan(*args):\n",
    "    return \"Juan\" in args\n",
    "\n",
    "problem.addConstraint(must_include_juan, roles.keys())\n",
    "\n",
    "# Solve the problem\n",
    "solutions = problem.getSolutions()\n",
    "\n",
    "# Output the solutions\n",
    "if not solutions:\n",
    "    print(\"No solutions found. Check the constraints or input data.\")\n",
    "else:\n",
    "    print(f\"Found {len(solutions)} solutions.\")\n",
    "    for i, solution in enumerate(solutions[:3], 1):  \n",
    "        print(f\"Solution {i}: {solution}\")\n"
   ]
  },
  {
   "cell_type": "code",
   "execution_count": null,
   "id": "ed6671b0-bcbf-41cb-9ba0-5552a63ff0c8",
   "metadata": {},
   "outputs": [],
   "source": []
  }
 ],
 "metadata": {
  "kernelspec": {
   "display_name": "Python 3 (ipykernel)",
   "language": "python",
   "name": "python3"
  },
  "language_info": {
   "codemirror_mode": {
    "name": "ipython",
    "version": 3
   },
   "file_extension": ".py",
   "mimetype": "text/x-python",
   "name": "python",
   "nbconvert_exporter": "python",
   "pygments_lexer": "ipython3",
   "version": "3.11.7"
  }
 },
 "nbformat": 4,
 "nbformat_minor": 5
}
